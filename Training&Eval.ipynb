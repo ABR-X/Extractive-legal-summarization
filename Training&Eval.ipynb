{
 "cells": [
  {
   "cell_type": "markdown",
   "id": "b4561ed1-0692-41f8-a4a8-fd175b529fda",
   "metadata": {},
   "source": [
    "# TRAINING & EVALUATION"
   ]
  },
  {
   "cell_type": "markdown",
   "id": "04ef062f-bebd-46c9-b5bf-8493f01dc2e1",
   "metadata": {},
   "source": [
    "## Imports & Data"
   ]
  },
  {
   "cell_type": "code",
   "execution_count": 18,
   "id": "2d4c89d9-efe1-424d-a225-a3e277deb949",
   "metadata": {},
   "outputs": [],
   "source": [
    "import sys\n",
    "\n",
    "# Add the folder path where rouge is installed (change this to your actual path)\n",
    "sys.path.append(r\"C:\\Users\\Ait El Mouddene\\miniconda3\\envs\\py311-env\\Lib\\site-packages\")"
   ]
  },
  {
   "cell_type": "code",
   "execution_count": 26,
   "id": "3903d17b-94b3-40a4-ab89-af5011080e5a",
   "metadata": {},
   "outputs": [
    {
     "name": "stdout",
     "output_type": "stream",
     "text": [
      "Collecting rouge-score\n",
      "  Downloading rouge_score-0.1.2.tar.gz (17 kB)\n",
      "  Preparing metadata (setup.py): started\n",
      "  Preparing metadata (setup.py): finished with status 'done'\n",
      "Collecting absl-py (from rouge-score)\n",
      "  Downloading absl_py-2.2.2-py3-none-any.whl.metadata (2.6 kB)\n",
      "Requirement already satisfied: nltk in c:\\users\\ait el mouddene\\miniconda3\\envs\\py311-env\\lib\\site-packages (from rouge-score) (3.9.1)\n",
      "Requirement already satisfied: numpy in c:\\users\\ait el mouddene\\miniconda3\\envs\\py311-env\\lib\\site-packages (from rouge-score) (2.2.5)\n",
      "Requirement already satisfied: six>=1.14.0 in c:\\users\\ait el mouddene\\miniconda3\\envs\\py311-env\\lib\\site-packages (from rouge-score) (1.17.0)\n",
      "Requirement already satisfied: click in c:\\users\\ait el mouddene\\miniconda3\\envs\\py311-env\\lib\\site-packages (from nltk->rouge-score) (8.1.8)\n",
      "Requirement already satisfied: joblib in c:\\users\\ait el mouddene\\miniconda3\\envs\\py311-env\\lib\\site-packages (from nltk->rouge-score) (1.5.0)\n",
      "Requirement already satisfied: regex>=2021.8.3 in c:\\users\\ait el mouddene\\miniconda3\\envs\\py311-env\\lib\\site-packages (from nltk->rouge-score) (2024.11.6)\n",
      "Requirement already satisfied: tqdm in c:\\users\\ait el mouddene\\miniconda3\\envs\\py311-env\\lib\\site-packages (from nltk->rouge-score) (4.67.1)\n",
      "Requirement already satisfied: colorama in c:\\users\\ait el mouddene\\miniconda3\\envs\\py311-env\\lib\\site-packages (from click->nltk->rouge-score) (0.4.6)\n",
      "Downloading absl_py-2.2.2-py3-none-any.whl (135 kB)\n",
      "Building wheels for collected packages: rouge-score\n",
      "  Building wheel for rouge-score (setup.py): started\n",
      "  Building wheel for rouge-score (setup.py): finished with status 'done'\n",
      "  Created wheel for rouge-score: filename=rouge_score-0.1.2-py3-none-any.whl size=25023 sha256=b052a997c601e86b10beeeac0ef0e28997d995be815c89d0e9b87e1afc643b94\n",
      "  Stored in directory: c:\\users\\ait el mouddene\\appdata\\local\\pip\\cache\\wheels\\1e\\19\\43\\8a442dc83660ca25e163e1bd1f89919284ab0d0c1475475148\n",
      "Successfully built rouge-score\n",
      "Installing collected packages: absl-py, rouge-score\n",
      "\n",
      "   -------------------- ------------------- 1/2 [rouge-score]\n",
      "   ---------------------------------------- 2/2 [rouge-score]\n",
      "\n",
      "Successfully installed absl-py-2.2.2 rouge-score-0.1.2\n"
     ]
    },
    {
     "name": "stderr",
     "output_type": "stream",
     "text": [
      "  DEPRECATION: Building 'rouge-score' using the legacy setup.py bdist_wheel mechanism, which will be removed in a future version. pip 25.3 will enforce this behaviour change. A possible replacement is to use the standardized build interface by setting the `--use-pep517` option, (possibly combined with `--no-build-isolation`), or adding a `pyproject.toml` file to the source tree of 'rouge-score'. Discussion can be found at https://github.com/pypa/pip/issues/6334\n"
     ]
    }
   ],
   "source": [
    "!pip install rouge-score"
   ]
  },
  {
   "cell_type": "code",
   "execution_count": 29,
   "id": "71a6d568-79ff-41b9-b394-8182ff303867",
   "metadata": {},
   "outputs": [],
   "source": [
    "from rouge_score import rouge_scorer"
   ]
  },
  {
   "cell_type": "code",
   "execution_count": 1,
   "id": "de2e1f22-29e3-49a2-8ce4-0044bb0cdbf5",
   "metadata": {},
   "outputs": [],
   "source": [
    "import json\n",
    "from sklearn.cluster import KMeans\n",
    "from math import ceil\n",
    "import numpy as np\n",
    "from tqdm import tqdm\n",
    "import pandas as pd\n",
    "import matplotlib.pyplot as plt\n",
    "from sklearn.model_selection import train_test_split\n",
    "from sklearn.linear_model import LogisticRegression\n",
    "from sklearn.metrics import classification_report, accuracy_score"
   ]
  },
  {
   "cell_type": "code",
   "execution_count": 2,
   "id": "84a07d50-c111-48e9-973c-b675b3d32db7",
   "metadata": {},
   "outputs": [],
   "source": [
    "df = pd.read_parquet(\"preprocessed_legal_data.parquet\")"
   ]
  },
  {
   "cell_type": "code",
   "execution_count": 3,
   "id": "0c32d964-e24b-467a-afa0-9bc3c5cc05b9",
   "metadata": {},
   "outputs": [],
   "source": [
    "# Open the JSON file for reading\n",
    "with open('all_features_combined.json', 'r') as file:\n",
    "    all_features_combined = json.load(file)  # Parse JSON into a Python dictionary or list"
   ]
  },
  {
   "cell_type": "code",
   "execution_count": 4,
   "id": "261eae89-eae6-4a00-8d1f-ef7c92f7c3c4",
   "metadata": {},
   "outputs": [],
   "source": [
    "all_features_cleaned, all_labels = all_features_combined[\"all_features\"], all_features_combined[\"all_labels\"]"
   ]
  },
  {
   "cell_type": "markdown",
   "id": "4d21131e-b06b-4302-9580-15f5b7f0333d",
   "metadata": {},
   "source": [
    "## Utils"
   ]
  },
  {
   "cell_type": "code",
   "execution_count": 5,
   "id": "de03288e-cc75-4d13-9af0-c2cfe034eebd",
   "metadata": {},
   "outputs": [],
   "source": [
    "def get_rouge_metrics_by_doc_idx(doc_idx, generated_summary):\n",
    "    rouge = Rouge()\n",
    "    \n",
    "    reference = df[\"summary/long\"][doc_idx]\n",
    "    hypothesis = generated_summary\n",
    "    \n",
    "    return rouge.get_scores(hypothesis, reference)[0]  # returns list of one dict\n"
   ]
  },
  {
   "cell_type": "code",
   "execution_count": 32,
   "id": "9fc9c9ce-92d1-4cce-83ea-ea1c2ca5c2fd",
   "metadata": {},
   "outputs": [],
   "source": [
    "def evaluate_summaries(summary_df):\n",
    "    scorer = rouge_scorer.RougeScorer(['rouge1', 'rouge2', 'rougeL'], use_stemmer=True)\n",
    "\n",
    "    rouge1_p, rouge1_r, rouge1_f = [], [], []\n",
    "    rouge2_p, rouge2_r, rouge2_f = [], [], []\n",
    "    rougeL_p, rougeL_r, rougeL_f = [], [], []\n",
    "\n",
    "    for _, row in tqdm(summary_df.iterrows(), total=len(summary_df), desc=\"Evaluating ROUGE\"):\n",
    "        gen = row[\"generated_summary\"]\n",
    "        ref = row[\"summary/long\"]\n",
    "\n",
    "        scores = scorer.score(ref, gen)\n",
    "\n",
    "        rouge1_p.append(scores[\"rouge1\"].precision)\n",
    "        rouge1_r.append(scores[\"rouge1\"].recall)\n",
    "        rouge1_f.append(scores[\"rouge1\"].fmeasure)\n",
    "\n",
    "        rouge2_p.append(scores[\"rouge2\"].precision)\n",
    "        rouge2_r.append(scores[\"rouge2\"].recall)\n",
    "        rouge2_f.append(scores[\"rouge2\"].fmeasure)\n",
    "\n",
    "        rougeL_p.append(scores[\"rougeL\"].precision)\n",
    "        rougeL_r.append(scores[\"rougeL\"].recall)\n",
    "        rougeL_f.append(scores[\"rougeL\"].fmeasure)\n",
    "\n",
    "    results = {\n",
    "        \"ROUGE-1\": {\n",
    "            \"precision\": np.mean(rouge1_p),\n",
    "            \"recall\":    np.mean(rouge1_r),\n",
    "            \"f1\":        np.mean(rouge1_f)\n",
    "        },\n",
    "        \"ROUGE-2\": {\n",
    "            \"precision\": np.mean(rouge2_p),\n",
    "            \"recall\":    np.mean(rouge2_r),\n",
    "            \"f1\":        np.mean(rouge2_f)\n",
    "        },\n",
    "        \"ROUGE-L\": {\n",
    "            \"precision\": np.mean(rougeL_p),\n",
    "            \"recall\":    np.mean(rougeL_r),\n",
    "            \"f1\":        np.mean(rougeL_f)\n",
    "        }\n",
    "    }\n",
    "\n",
    "    return results"
   ]
  },
  {
   "cell_type": "code",
   "execution_count": 7,
   "id": "e453b204-0f3f-4cbb-b3e2-5a44f13e47dc",
   "metadata": {},
   "outputs": [],
   "source": [
    "def get_selected_text(row):\n",
    "    selected_sentences = [\n",
    "        sent for sent, pred in zip(row[\"sentence\"], row[\"prediction\"]) if pred == 1\n",
    "    ]\n",
    "    return \" \".join(selected_sentences)"
   ]
  },
  {
   "cell_type": "markdown",
   "id": "6d4fe9d6-2ee8-4e8c-aa0c-ce51a5da832b",
   "metadata": {},
   "source": [
    "## K-MEANS"
   ]
  },
  {
   "cell_type": "markdown",
   "id": "84dcb689-f74e-4f10-a896-677f3f77630b",
   "metadata": {
    "jp-MarkdownHeadingCollapsed": true
   },
   "source": [
    "### Test Elbow Method"
   ]
  },
  {
   "cell_type": "code",
   "execution_count": 8,
   "id": "2d86f442-1721-44c9-a872-d2dfd54ba723",
   "metadata": {},
   "outputs": [],
   "source": [
    "def compute_avg_inertia(doc_features_list, k_values):\n",
    "    \"\"\"\n",
    "    For each k in k_values, fits KMeans on each doc in doc_features_list\n",
    "    and returns the average inertia across docs.\n",
    "    \"\"\"\n",
    "    avg_inertias = {}\n",
    "    for k in k_values:\n",
    "        inertias = []\n",
    "        for feats in doc_features_list:\n",
    "            # feats is a list of dicts; convert to array\n",
    "            X = np.array([[v for v in sent.values()] for sent in feats])\n",
    "            if k <= X.shape[0]:\n",
    "                km = KMeans(n_clusters=k, random_state=42, n_init='auto')\n",
    "                km.fit(X)\n",
    "                inertias.append(km.inertia_)\n",
    "        avg_inertias[k] = np.mean(inertias) if inertias else np.nan\n",
    "    return avg_inertias"
   ]
  },
  {
   "cell_type": "code",
   "execution_count": 9,
   "id": "d126ebc0-8e84-491f-ac60-9ce0ddf34a9d",
   "metadata": {},
   "outputs": [],
   "source": [
    "k_values = list(range(1, 11))\n",
    "avg_inertias = compute_avg_inertia(all_features_cleaned[:10], k_values)"
   ]
  },
  {
   "cell_type": "code",
   "execution_count": 10,
   "id": "39e657e2-a858-4860-83a8-afad2a388aaf",
   "metadata": {},
   "outputs": [
    {
     "data": {
      "image/png": "[encoded data removed]",
      "text/plain": [
       "<Figure size 640x480 with 1 Axes>"
      ]
     },
     "metadata": {},
     "output_type": "display_data"
    }
   ],
   "source": [
    "# 4) Plot the elbow curve\n",
    "plt.figure()\n",
    "plt.plot(k_values, [avg_inertias[k] for k in k_values], marker='o')\n",
    "plt.xlabel('Number of clusters (k)')\n",
    "plt.ylabel('Average Inertia')\n",
    "plt.title('Elbow Method: Average Inertia vs. k')\n",
    "plt.grid(True)\n",
    "plt.show()"
   ]
  },
  {
   "cell_type": "markdown",
   "id": "6832f4ad-b99f-4ad1-915b-11f361c7c202",
   "metadata": {
    "jp-MarkdownHeadingCollapsed": true
   },
   "source": [
    "### Clustering"
   ]
  },
  {
   "cell_type": "code",
   "execution_count": 11,
   "id": "6994f31d-a736-4592-9052-45416f41b03f",
   "metadata": {},
   "outputs": [],
   "source": [
    "def get_doc_clusters(doc_features, k):\n",
    "    if not doc_features:\n",
    "        print(\"No features to cluster.\")\n",
    "        return None, None\n",
    "\n",
    "    # Convert list of dicts to numpy array\n",
    "    X_doc = np.array([[v for v in sent.values()] for sent in doc_features])\n",
    "\n",
    "    # Fit KMeans\n",
    "    kmeans = KMeans(n_clusters=k, random_state=42, n_init='auto')\n",
    "    kmeans.fit(X_doc)\n",
    "\n",
    "    # Return cluster labels and cluster centers\n",
    "    return kmeans.labels_, kmeans.cluster_centers_"
   ]
  },
  {
   "cell_type": "code",
   "execution_count": 12,
   "id": "57b0250d-0d65-40ca-8dac-fbf8c1e69f35",
   "metadata": {},
   "outputs": [],
   "source": [
    "def get_wanted_cluster(labels, k):\n",
    "    count_k = []\n",
    "    for cl in range(k):\n",
    "        count_k.append(np.sum(labels == cl))  # Count how many times each label appears\n",
    "    min_index = count_k.index(min(count_k))  # Index of the cluster with the fewest items\n",
    "    return min_index"
   ]
  },
  {
   "cell_type": "code",
   "execution_count": 13,
   "id": "ad7ab68f-9ee9-4989-8926-6a699ea2ae72",
   "metadata": {},
   "outputs": [],
   "source": [
    "def get_doc_summary_from_kmeans(df, doc_features, doc_id, k=4):\n",
    "    summary_sentences = \"\"\n",
    "    labels, centers = get_doc_clusters(doc_features, k)\n",
    "    cluster_2_indexes = np.where(labels == get_wanted_cluster(labels, k))[0]\n",
    "    for idx, sentence in enumerate(df[\"sentences\"][doc_id]):\n",
    "        if idx in cluster_2_indexes:\n",
    "            summary_sentences += ' ' + sentence\n",
    "    return summary_sentences.strip()"
   ]
  },
  {
   "cell_type": "code",
   "execution_count": 14,
   "id": "a9545ef5-e7c4-46f8-b59a-0588ba3fb3b0",
   "metadata": {},
   "outputs": [],
   "source": [
    "def build_summary_comparison_df(df, all_features_cleaned, k=4):\n",
    "\n",
    "    results = []\n",
    "\n",
    "    for doc_idx in tqdm(range(len(df)), desc=\"Generating summaries\"):\n",
    "        feats = all_features_cleaned[doc_idx]\n",
    "        gen_sum = get_doc_summary_from_kmeans(df, feats, doc_idx, k=k)\n",
    "        results.append({\n",
    "            \"doc_id\": df.iloc[doc_idx][\"id\"],\n",
    "            \"generated_summary\": gen_sum,\n",
    "            \"summary/long\": df.iloc[doc_idx][\"summary/long\"]\n",
    "        })\n",
    "\n",
    "    summary_df = pd.DataFrame(results)\n",
    "    return summary_df.set_index(\"doc_id\")"
   ]
  },
  {
   "cell_type": "code",
   "execution_count": 15,
   "id": "3cf696c0-f249-48d4-b35d-4ae23094da83",
   "metadata": {},
   "outputs": [
    {
     "name": "stderr",
     "output_type": "stream",
     "text": [
      "Generating summaries: 100%|██████████████████████████████████████████████████████████| 318/318 [00:06<00:00, 52.38it/s]\n"
     ]
    }
   ],
   "source": [
    "summary_df = build_summary_comparison_df(df, all_features_cleaned, k=4)"
   ]
  },
  {
   "cell_type": "markdown",
   "id": "bfe66fe1-0205-41d2-bb45-626c57a18ded",
   "metadata": {
    "jp-MarkdownHeadingCollapsed": true
   },
   "source": [
    "### Evaluation"
   ]
  },
  {
   "cell_type": "code",
   "execution_count": 33,
   "id": "2e3956ed-498e-4004-9f84-938e04903f44",
   "metadata": {},
   "outputs": [
    {
     "name": "stderr",
     "output_type": "stream",
     "text": [
      "Evaluating ROUGE: 100%|██████████████████████████████████████████████████████████████| 318/318 [04:13<00:00,  1.25it/s]"
     ]
    },
    {
     "name": "stdout",
     "output_type": "stream",
     "text": [
      "Average ROUGE Scores:\n",
      "ROUGE-1:\n",
      "  Precision: 0.2112\n",
      "  Recall:    0.5160\n",
      "  F1-score:  0.2573\n",
      "ROUGE-2:\n",
      "  Precision: 0.0550\n",
      "  Recall:    0.1519\n",
      "  F1-score:  0.0690\n",
      "ROUGE-L:\n",
      "  Precision: 0.0954\n",
      "  Recall:    0.2364\n",
      "  F1-score:  0.1154\n"
     ]
    },
    {
     "name": "stderr",
     "output_type": "stream",
     "text": [
      "\n"
     ]
    }
   ],
   "source": [
    "results = evaluate_summaries(summary_df)\n",
    "print(\"Average ROUGE Scores:\")\n",
    "for metric, scores in results.items():\n",
    "    print(f\"{metric}:\")\n",
    "    print(f\"  Precision: {scores['precision']:.4f}\")\n",
    "    print(f\"  Recall:    {scores['recall']:.4f}\")\n",
    "    print(f\"  F1-score:  {scores['f1']:.4f}\")"
   ]
  },
  {
   "cell_type": "markdown",
   "id": "e540bb3c-b232-4845-a78b-9cd74c157311",
   "metadata": {},
   "source": [
    "## Logistic Regression"
   ]
  },
  {
   "cell_type": "markdown",
   "id": "5b282ab7-f85d-44a7-8cbb-7dacd30f393e",
   "metadata": {
    "jp-MarkdownHeadingCollapsed": true
   },
   "source": [
    "### Flatten Data for Training"
   ]
  },
  {
   "cell_type": "code",
   "execution_count": 34,
   "id": "e3544c5c-361e-4fdb-8764-87e2ff58a823",
   "metadata": {},
   "outputs": [],
   "source": [
    "def flatten_features_for_training(all_features, all_labels):\n",
    "    X = []\n",
    "    y = []\n",
    "    \n",
    "    for doc_idx in range(len(all_features)):\n",
    "        for sent_idx in range(len(all_features[doc_idx])):\n",
    "            # Convert dictionary to list of values\n",
    "            feature_vector = list(all_features[doc_idx][sent_idx].values())\n",
    "            X.append(feature_vector)\n",
    "            y.append(all_labels[doc_idx][sent_idx])\n",
    "    \n",
    "    return np.array(X), np.array(y)"
   ]
  },
  {
   "cell_type": "code",
   "execution_count": 35,
   "id": "8396f049-50a9-4ee8-af2c-027438d68a5b",
   "metadata": {},
   "outputs": [],
   "source": [
    "X, y = flatten_features_for_training(all_features_cleaned, all_labels)\n",
    "X_train, X_test, y_train, y_test = train_test_split(\n",
    "    X, y, test_size=0.2, shuffle=False\n",
    ")"
   ]
  },
  {
   "cell_type": "code",
   "execution_count": 36,
   "id": "d0aae957-3e1f-4022-a28b-52958a3b7594",
   "metadata": {},
   "outputs": [],
   "source": [
    "flattened_data = []\n",
    "\n",
    "for idx, row in df.iterrows():\n",
    "    doc_id = row[\"id\"]\n",
    "    sentences = row[\"sentences\"]  # or \"sentences_tf_idf\"\n",
    "    \n",
    "    for sent_idx, sentence in enumerate(sentences):\n",
    "        flattened_data.append({\n",
    "            \"doc_id\": doc_id,\n",
    "            \"sent_idx\": sent_idx,\n",
    "            \"sentence\": sentence,\n",
    "        })\n",
    "      \n",
    "flat_df = pd.DataFrame(flattened_data)\n",
    "X_train_, X_test_ = train_test_split(flat_df, test_size=0.2, shuffle=False)"
   ]
  },
  {
   "cell_type": "markdown",
   "id": "3cfde855-5495-4bc6-881a-9b9a30b8120f",
   "metadata": {
    "jp-MarkdownHeadingCollapsed": true
   },
   "source": [
    "### Correlation Matrics"
   ]
  },
  {
   "cell_type": "code",
   "execution_count": 37,
   "id": "8f3eb1e0-29ce-4679-9bb9-d8a0e15eaef9",
   "metadata": {},
   "outputs": [],
   "source": [
    "# Rebuild column names from one example (assuming all features have same keys)\n",
    "feature_keys = list(all_features_cleaned[0][0].keys())\n",
    "\n",
    "# Create a DataFrame\n",
    "df_features = pd.DataFrame(X, columns=feature_keys)\n",
    "df_features['label'] = y  # Add the target variable"
   ]
  },
  {
   "cell_type": "code",
   "execution_count": 38,
   "id": "cce21ad6-48a6-4ad0-bb2e-e0feda6c4059",
   "metadata": {},
   "outputs": [
    {
     "data": {
      "text/plain": [
       "avg_tfidf                 0.533351\n",
       "max_tfidf                -0.267608\n",
       "sum_tfidf                 0.533351\n",
       "centroid_similarity       0.333321\n",
       "rel_position             -0.012456\n",
       "is_first_quarter          0.021066\n",
       "is_last_quarter           0.004014\n",
       "is_first                 -0.001498\n",
       "is_last                  -0.000633\n",
       "sentence_length           0.439901\n",
       "sentence_parity          -0.000346\n",
       "noun_ratio                0.167712\n",
       "verb_ratio                0.133050\n",
       "adj_ratio                 0.124127\n",
       "adv_ratio                 0.038677\n",
       "prop_noun_ratio          -0.159314\n",
       "num_ratio                -0.173148\n",
       "legal_term_count          0.415760\n",
       "count_act_mention         0.102533\n",
       "count_company_mentions    0.006853\n",
       "count_conditions          0.167673\n",
       "count_durations           0.081862\n",
       "count_constraints         0.157124\n",
       "count_num_dates           0.089968\n",
       "label                     1.000000\n",
       "Name: label, dtype: float64"
      ]
     },
     "execution_count": 38,
     "metadata": {},
     "output_type": "execute_result"
    }
   ],
   "source": [
    "correlation_matrix = df_features.corr(numeric_only=True)\n",
    "correlation_matrix[\"label\"]"
   ]
  },
  {
   "cell_type": "markdown",
   "id": "b63593e2-670c-4d26-b04e-79f87605420f",
   "metadata": {
    "jp-MarkdownHeadingCollapsed": true
   },
   "source": [
    "### Training & Prediction"
   ]
  },
  {
   "cell_type": "code",
   "execution_count": 39,
   "id": "8a45c787-2980-4607-91e9-c8c5ee89d1d3",
   "metadata": {},
   "outputs": [
    {
     "data": {
      "text/html": [
       "<style>#sk-container-id-1 {\n",
       "  /* Definition of color scheme common for light and dark mode */\n",
       "  --sklearn-color-text: #000;\n",
       "  --sklearn-color-text-muted: #666;\n",
       "  --sklearn-color-line: gray;\n",
       "  /* Definition of color scheme for unfitted estimators */\n",
       "  --sklearn-color-unfitted-level-0: #fff5e6;\n",
       "  --sklearn-color-unfitted-level-1: #f6e4d2;\n",
       "  --sklearn-color-unfitted-level-2: #ffe0b3;\n",
       "  --sklearn-color-unfitted-level-3: chocolate;\n",
       "  /* Definition of color scheme for fitted estimators */\n",
       "  --sklearn-color-fitted-level-0: #f0f8ff;\n",
       "  --sklearn-color-fitted-level-1: #d4ebff;\n",
       "  --sklearn-color-fitted-level-2: #b3dbfd;\n",
       "  --sklearn-color-fitted-level-3: cornflowerblue;\n",
       "\n",
       "  /* Specific color for light theme */\n",
       "  --sklearn-color-text-on-default-background: var(--sg-text-color, var(--theme-code-foreground, var(--jp-content-font-color1, black)));\n",
       "  --sklearn-color-background: var(--sg-background-color, var(--theme-background, var(--jp-layout-color0, white)));\n",
       "  --sklearn-color-border-box: var(--sg-text-color, var(--theme-code-foreground, var(--jp-content-font-color1, black)));\n",
       "  --sklearn-color-icon: #696969;\n",
       "\n",
       "  @media (prefers-color-scheme: dark) {\n",
       "    /* Redefinition of color scheme for dark theme */\n",
       "    --sklearn-color-text-on-default-background: var(--sg-text-color, var(--theme-code-foreground, var(--jp-content-font-color1, white)));\n",
       "    --sklearn-color-background: var(--sg-background-color, var(--theme-background, var(--jp-layout-color0, #111)));\n",
       "    --sklearn-color-border-box: var(--sg-text-color, var(--theme-code-foreground, var(--jp-content-font-color1, white)));\n",
       "    --sklearn-color-icon: #878787;\n",
       "  }\n",
       "}\n",
       "\n",
       "#sk-container-id-1 {\n",
       "  color: var(--sklearn-color-text);\n",
       "}\n",
       "\n",
       "#sk-container-id-1 pre {\n",
       "  padding: 0;\n",
       "}\n",
       "\n",
       "#sk-container-id-1 input.sk-hidden--visually {\n",
       "  border: 0;\n",
       "  clip: rect(1px 1px 1px 1px);\n",
       "  clip: rect(1px, 1px, 1px, 1px);\n",
       "  height: 1px;\n",
       "  margin: -1px;\n",
       "  overflow: hidden;\n",
       "  padding: 0;\n",
       "  position: absolute;\n",
       "  width: 1px;\n",
       "}\n",
       "\n",
       "#sk-container-id-1 div.sk-dashed-wrapped {\n",
       "  border: 1px dashed var(--sklearn-color-line);\n",
       "  margin: 0 0.4em 0.5em 0.4em;\n",
       "  box-sizing: border-box;\n",
       "  padding-bottom: 0.4em;\n",
       "  background-color: var(--sklearn-color-background);\n",
       "}\n",
       "\n",
       "#sk-container-id-1 div.sk-container {\n",
       "  /* jupyter's `normalize.less` sets `[hidden] { display: none; }`\n",
       "     but bootstrap.min.css set `[hidden] { display: none !important; }`\n",
       "     so we also need the `!important` here to be able to override the\n",
       "     default hidden behavior on the sphinx rendered scikit-learn.org.\n",
       "     See: https://github.com/scikit-learn/scikit-learn/issues/21755 */\n",
       "  display: inline-block !important;\n",
       "  position: relative;\n",
       "}\n",
       "\n",
       "#sk-container-id-1 div.sk-text-repr-fallback {\n",
       "  display: none;\n",
       "}\n",
       "\n",
       "div.sk-parallel-item,\n",
       "div.sk-serial,\n",
       "div.sk-item {\n",
       "  /* draw centered vertical line to link estimators */\n",
       "  background-image: linear-gradient(var(--sklearn-color-text-on-default-background), var(--sklearn-color-text-on-default-background));\n",
       "  background-size: 2px 100%;\n",
       "  background-repeat: no-repeat;\n",
       "  background-position: center center;\n",
       "}\n",
       "\n",
       "/* Parallel-specific style estimator block */\n",
       "\n",
       "#sk-container-id-1 div.sk-parallel-item::after {\n",
       "  content: \"\";\n",
       "  width: 100%;\n",
       "  border-bottom: 2px solid var(--sklearn-color-text-on-default-background);\n",
       "  flex-grow: 1;\n",
       "}\n",
       "\n",
       "#sk-container-id-1 div.sk-parallel {\n",
       "  display: flex;\n",
       "  align-items: stretch;\n",
       "  justify-content: center;\n",
       "  background-color: var(--sklearn-color-background);\n",
       "  position: relative;\n",
       "}\n",
       "\n",
       "#sk-container-id-1 div.sk-parallel-item {\n",
       "  display: flex;\n",
       "  flex-direction: column;\n",
       "}\n",
       "\n",
       "#sk-container-id-1 div.sk-parallel-item:first-child::after {\n",
       "  align-self: flex-end;\n",
       "  width: 50%;\n",
       "}\n",
       "\n",
       "#sk-container-id-1 div.sk-parallel-item:last-child::after {\n",
       "  align-self: flex-start;\n",
       "  width: 50%;\n",
       "}\n",
       "\n",
       "#sk-container-id-1 div.sk-parallel-item:only-child::after {\n",
       "  width: 0;\n",
       "}\n",
       "\n",
       "/* Serial-specific style estimator block */\n",
       "\n",
       "#sk-container-id-1 div.sk-serial {\n",
       "  display: flex;\n",
       "  flex-direction: column;\n",
       "  align-items: center;\n",
       "  background-color: var(--sklearn-color-background);\n",
       "  padding-right: 1em;\n",
       "  padding-left: 1em;\n",
       "}\n",
       "\n",
       "\n",
       "/* Toggleable style: style used for estimator/Pipeline/ColumnTransformer box that is\n",
       "clickable and can be expanded/collapsed.\n",
       "- Pipeline and ColumnTransformer use this feature and define the default style\n",
       "- Estimators will overwrite some part of the style using the `sk-estimator` class\n",
       "*/\n",
       "\n",
       "/* Pipeline and ColumnTransformer style (default) */\n",
       "\n",
       "#sk-container-id-1 div.sk-toggleable {\n",
       "  /* Default theme specific background. It is overwritten whether we have a\n",
       "  specific estimator or a Pipeline/ColumnTransformer */\n",
       "  background-color: var(--sklearn-color-background);\n",
       "}\n",
       "\n",
       "/* Toggleable label */\n",
       "#sk-container-id-1 label.sk-toggleable__label {\n",
       "  cursor: pointer;\n",
       "  display: flex;\n",
       "  width: 100%;\n",
       "  margin-bottom: 0;\n",
       "  padding: 0.5em;\n",
       "  box-sizing: border-box;\n",
       "  text-align: center;\n",
       "  align-items: start;\n",
       "  justify-content: space-between;\n",
       "  gap: 0.5em;\n",
       "}\n",
       "\n",
       "#sk-container-id-1 label.sk-toggleable__label .caption {\n",
       "  font-size: 0.6rem;\n",
       "  font-weight: lighter;\n",
       "  color: var(--sklearn-color-text-muted);\n",
       "}\n",
       "\n",
       "#sk-container-id-1 label.sk-toggleable__label-arrow:before {\n",
       "  /* Arrow on the left of the label */\n",
       "  content: \"▸\";\n",
       "  float: left;\n",
       "  margin-right: 0.25em;\n",
       "  color: var(--sklearn-color-icon);\n",
       "}\n",
       "\n",
       "#sk-container-id-1 label.sk-toggleable__label-arrow:hover:before {\n",
       "  color: var(--sklearn-color-text);\n",
       "}\n",
       "\n",
       "/* Toggleable content - dropdown */\n",
       "\n",
       "#sk-container-id-1 div.sk-toggleable__content {\n",
       "  max-height: 0;\n",
       "  max-width: 0;\n",
       "  overflow: hidden;\n",
       "  text-align: left;\n",
       "  /* unfitted */\n",
       "  background-color: var(--sklearn-color-unfitted-level-0);\n",
       "}\n",
       "\n",
       "#sk-container-id-1 div.sk-toggleable__content.fitted {\n",
       "  /* fitted */\n",
       "  background-color: var(--sklearn-color-fitted-level-0);\n",
       "}\n",
       "\n",
       "#sk-container-id-1 div.sk-toggleable__content pre {\n",
       "  margin: 0.2em;\n",
       "  border-radius: 0.25em;\n",
       "  color: var(--sklearn-color-text);\n",
       "  /* unfitted */\n",
       "  background-color: var(--sklearn-color-unfitted-level-0);\n",
       "}\n",
       "\n",
       "#sk-container-id-1 div.sk-toggleable__content.fitted pre {\n",
       "  /* unfitted */\n",
       "  background-color: var(--sklearn-color-fitted-level-0);\n",
       "}\n",
       "\n",
       "#sk-container-id-1 input.sk-toggleable__control:checked~div.sk-toggleable__content {\n",
       "  /* Expand drop-down */\n",
       "  max-height: 200px;\n",
       "  max-width: 100%;\n",
       "  overflow: auto;\n",
       "}\n",
       "\n",
       "#sk-container-id-1 input.sk-toggleable__control:checked~label.sk-toggleable__label-arrow:before {\n",
       "  content: \"▾\";\n",
       "}\n",
       "\n",
       "/* Pipeline/ColumnTransformer-specific style */\n",
       "\n",
       "#sk-container-id-1 div.sk-label input.sk-toggleable__control:checked~label.sk-toggleable__label {\n",
       "  color: var(--sklearn-color-text);\n",
       "  background-color: var(--sklearn-color-unfitted-level-2);\n",
       "}\n",
       "\n",
       "#sk-container-id-1 div.sk-label.fitted input.sk-toggleable__control:checked~label.sk-toggleable__label {\n",
       "  background-color: var(--sklearn-color-fitted-level-2);\n",
       "}\n",
       "\n",
       "/* Estimator-specific style */\n",
       "\n",
       "/* Colorize estimator box */\n",
       "#sk-container-id-1 div.sk-estimator input.sk-toggleable__control:checked~label.sk-toggleable__label {\n",
       "  /* unfitted */\n",
       "  background-color: var(--sklearn-color-unfitted-level-2);\n",
       "}\n",
       "\n",
       "#sk-container-id-1 div.sk-estimator.fitted input.sk-toggleable__control:checked~label.sk-toggleable__label {\n",
       "  /* fitted */\n",
       "  background-color: var(--sklearn-color-fitted-level-2);\n",
       "}\n",
       "\n",
       "#sk-container-id-1 div.sk-label label.sk-toggleable__label,\n",
       "#sk-container-id-1 div.sk-label label {\n",
       "  /* The background is the default theme color */\n",
       "  color: var(--sklearn-color-text-on-default-background);\n",
       "}\n",
       "\n",
       "/* On hover, darken the color of the background */\n",
       "#sk-container-id-1 div.sk-label:hover label.sk-toggleable__label {\n",
       "  color: var(--sklearn-color-text);\n",
       "  background-color: var(--sklearn-color-unfitted-level-2);\n",
       "}\n",
       "\n",
       "/* Label box, darken color on hover, fitted */\n",
       "#sk-container-id-1 div.sk-label.fitted:hover label.sk-toggleable__label.fitted {\n",
       "  color: var(--sklearn-color-text);\n",
       "  background-color: var(--sklearn-color-fitted-level-2);\n",
       "}\n",
       "\n",
       "/* Estimator label */\n",
       "\n",
       "#sk-container-id-1 div.sk-label label {\n",
       "  font-family: monospace;\n",
       "  font-weight: bold;\n",
       "  display: inline-block;\n",
       "  line-height: 1.2em;\n",
       "}\n",
       "\n",
       "#sk-container-id-1 div.sk-label-container {\n",
       "  text-align: center;\n",
       "}\n",
       "\n",
       "/* Estimator-specific */\n",
       "#sk-container-id-1 div.sk-estimator {\n",
       "  font-family: monospace;\n",
       "  border: 1px dotted var(--sklearn-color-border-box);\n",
       "  border-radius: 0.25em;\n",
       "  box-sizing: border-box;\n",
       "  margin-bottom: 0.5em;\n",
       "  /* unfitted */\n",
       "  background-color: var(--sklearn-color-unfitted-level-0);\n",
       "}\n",
       "\n",
       "#sk-container-id-1 div.sk-estimator.fitted {\n",
       "  /* fitted */\n",
       "  background-color: var(--sklearn-color-fitted-level-0);\n",
       "}\n",
       "\n",
       "/* on hover */\n",
       "#sk-container-id-1 div.sk-estimator:hover {\n",
       "  /* unfitted */\n",
       "  background-color: var(--sklearn-color-unfitted-level-2);\n",
       "}\n",
       "\n",
       "#sk-container-id-1 div.sk-estimator.fitted:hover {\n",
       "  /* fitted */\n",
       "  background-color: var(--sklearn-color-fitted-level-2);\n",
       "}\n",
       "\n",
       "/* Specification for estimator info (e.g. \"i\" and \"?\") */\n",
       "\n",
       "/* Common style for \"i\" and \"?\" */\n",
       "\n",
       ".sk-estimator-doc-link,\n",
       "a:link.sk-estimator-doc-link,\n",
       "a:visited.sk-estimator-doc-link {\n",
       "  float: right;\n",
       "  font-size: smaller;\n",
       "  line-height: 1em;\n",
       "  font-family: monospace;\n",
       "  background-color: var(--sklearn-color-background);\n",
       "  border-radius: 1em;\n",
       "  height: 1em;\n",
       "  width: 1em;\n",
       "  text-decoration: none !important;\n",
       "  margin-left: 0.5em;\n",
       "  text-align: center;\n",
       "  /* unfitted */\n",
       "  border: var(--sklearn-color-unfitted-level-1) 1pt solid;\n",
       "  color: var(--sklearn-color-unfitted-level-1);\n",
       "}\n",
       "\n",
       ".sk-estimator-doc-link.fitted,\n",
       "a:link.sk-estimator-doc-link.fitted,\n",
       "a:visited.sk-estimator-doc-link.fitted {\n",
       "  /* fitted */\n",
       "  border: var(--sklearn-color-fitted-level-1) 1pt solid;\n",
       "  color: var(--sklearn-color-fitted-level-1);\n",
       "}\n",
       "\n",
       "/* On hover */\n",
       "div.sk-estimator:hover .sk-estimator-doc-link:hover,\n",
       ".sk-estimator-doc-link:hover,\n",
       "div.sk-label-container:hover .sk-estimator-doc-link:hover,\n",
       ".sk-estimator-doc-link:hover {\n",
       "  /* unfitted */\n",
       "  background-color: var(--sklearn-color-unfitted-level-3);\n",
       "  color: var(--sklearn-color-background);\n",
       "  text-decoration: none;\n",
       "}\n",
       "\n",
       "div.sk-estimator.fitted:hover .sk-estimator-doc-link.fitted:hover,\n",
       ".sk-estimator-doc-link.fitted:hover,\n",
       "div.sk-label-container:hover .sk-estimator-doc-link.fitted:hover,\n",
       ".sk-estimator-doc-link.fitted:hover {\n",
       "  /* fitted */\n",
       "  background-color: var(--sklearn-color-fitted-level-3);\n",
       "  color: var(--sklearn-color-background);\n",
       "  text-decoration: none;\n",
       "}\n",
       "\n",
       "/* Span, style for the box shown on hovering the info icon */\n",
       ".sk-estimator-doc-link span {\n",
       "  display: none;\n",
       "  z-index: 9999;\n",
       "  position: relative;\n",
       "  font-weight: normal;\n",
       "  right: .2ex;\n",
       "  padding: .5ex;\n",
       "  margin: .5ex;\n",
       "  width: min-content;\n",
       "  min-width: 20ex;\n",
       "  max-width: 50ex;\n",
       "  color: var(--sklearn-color-text);\n",
       "  box-shadow: 2pt 2pt 4pt #999;\n",
       "  /* unfitted */\n",
       "  background: var(--sklearn-color-unfitted-level-0);\n",
       "  border: .5pt solid var(--sklearn-color-unfitted-level-3);\n",
       "}\n",
       "\n",
       ".sk-estimator-doc-link.fitted span {\n",
       "  /* fitted */\n",
       "  background: var(--sklearn-color-fitted-level-0);\n",
       "  border: var(--sklearn-color-fitted-level-3);\n",
       "}\n",
       "\n",
       ".sk-estimator-doc-link:hover span {\n",
       "  display: block;\n",
       "}\n",
       "\n",
       "/* \"?\"-specific style due to the `<a>` HTML tag */\n",
       "\n",
       "#sk-container-id-1 a.estimator_doc_link {\n",
       "  float: right;\n",
       "  font-size: 1rem;\n",
       "  line-height: 1em;\n",
       "  font-family: monospace;\n",
       "  background-color: var(--sklearn-color-background);\n",
       "  border-radius: 1rem;\n",
       "  height: 1rem;\n",
       "  width: 1rem;\n",
       "  text-decoration: none;\n",
       "  /* unfitted */\n",
       "  color: var(--sklearn-color-unfitted-level-1);\n",
       "  border: var(--sklearn-color-unfitted-level-1) 1pt solid;\n",
       "}\n",
       "\n",
       "#sk-container-id-1 a.estimator_doc_link.fitted {\n",
       "  /* fitted */\n",
       "  border: var(--sklearn-color-fitted-level-1) 1pt solid;\n",
       "  color: var(--sklearn-color-fitted-level-1);\n",
       "}\n",
       "\n",
       "/* On hover */\n",
       "#sk-container-id-1 a.estimator_doc_link:hover {\n",
       "  /* unfitted */\n",
       "  background-color: var(--sklearn-color-unfitted-level-3);\n",
       "  color: var(--sklearn-color-background);\n",
       "  text-decoration: none;\n",
       "}\n",
       "\n",
       "#sk-container-id-1 a.estimator_doc_link.fitted:hover {\n",
       "  /* fitted */\n",
       "  background-color: var(--sklearn-color-fitted-level-3);\n",
       "}\n",
       "</style><div id=\"sk-container-id-1\" class=\"sk-top-container\"><div class=\"sk-text-repr-fallback\"><pre>LogisticRegression(max_iter=1000, random_state=42)</pre><b>In a Jupyter environment, please rerun this cell to show the HTML representation or trust the notebook. <br />On GitHub, the HTML representation is unable to render, please try loading this page with nbviewer.org.</b></div><div class=\"sk-container\" hidden><div class=\"sk-item\"><div class=\"sk-estimator fitted sk-toggleable\"><input class=\"sk-toggleable__control sk-hidden--visually\" id=\"sk-estimator-id-1\" type=\"checkbox\" checked><label for=\"sk-estimator-id-1\" class=\"sk-toggleable__label fitted sk-toggleable__label-arrow\"><div><div>LogisticRegression</div></div><div><a class=\"sk-estimator-doc-link fitted\" rel=\"noreferrer\" target=\"_blank\" href=\"https://scikit-learn.org/1.6/modules/generated/sklearn.linear_model.LogisticRegression.html\">?<span>Documentation for LogisticRegression</span></a><span class=\"sk-estimator-doc-link fitted\">i<span>Fitted</span></span></div></label><div class=\"sk-toggleable__content fitted\"><pre>LogisticRegression(max_iter=1000, random_state=42)</pre></div> </div></div></div></div>"
      ],
      "text/plain": [
       "LogisticRegression(max_iter=1000, random_state=42)"
      ]
     },
     "execution_count": 39,
     "metadata": {},
     "output_type": "execute_result"
    }
   ],
   "source": [
    "clf = LogisticRegression(max_iter=1000, random_state=42)\n",
    "clf.fit(X_train, y_train)"
   ]
  },
  {
   "cell_type": "code",
   "execution_count": 41,
   "id": "1c7187be-df6f-41ba-9ca8-f46529821806",
   "metadata": {},
   "outputs": [],
   "source": [
    "y_pred = clf.predict(X_test)"
   ]
  },
  {
   "cell_type": "code",
   "execution_count": 42,
   "id": "fcce4224-05b1-4c9f-b028-11f6cb7fa708",
   "metadata": {},
   "outputs": [],
   "source": [
    "X_test_[\"prediction\"] = y_pred"
   ]
  },
  {
   "cell_type": "markdown",
   "id": "a8337e90-393c-419b-8ce1-e7f584530ec8",
   "metadata": {},
   "source": [
    "### Preparing DF"
   ]
  },
  {
   "cell_type": "code",
   "execution_count": 48,
   "id": "d00f3fe3-5234-4d3a-adef-8af2162a1940",
   "metadata": {},
   "outputs": [],
   "source": [
    "grouped = X_test_.groupby(\"doc_id\").agg(list)"
   ]
  },
  {
   "cell_type": "code",
   "execution_count": 49,
   "id": "7836f04a-911f-4730-9ff5-7b0ed66adf17",
   "metadata": {},
   "outputs": [],
   "source": [
    "grouped[\"generated_summary\"] = grouped.apply(get_selected_text, axis=1)"
   ]
  },
  {
   "cell_type": "code",
   "execution_count": 50,
   "id": "15289922-1b56-44c6-9963-1934a84f13b8",
   "metadata": {},
   "outputs": [
    {
     "data": {
      "text/html": [
       "<div>\n",
       "<style scoped>\n",
       "    .dataframe tbody tr th:only-of-type {\n",
       "        vertical-align: middle;\n",
       "    }\n",
       "\n",
       "    .dataframe tbody tr th {\n",
       "        vertical-align: top;\n",
       "    }\n",
       "\n",
       "    .dataframe thead th {\n",
       "        text-align: right;\n",
       "    }\n",
       "</style>\n",
       "<table border=\"1\" class=\"dataframe\">\n",
       "  <thead>\n",
       "    <tr style=\"text-align: right;\">\n",
       "      <th></th>\n",
       "      <th>sent_idx</th>\n",
       "      <th>sentence</th>\n",
       "      <th>prediction</th>\n",
       "      <th>generated_summary</th>\n",
       "    </tr>\n",
       "    <tr>\n",
       "      <th>doc_id</th>\n",
       "      <th></th>\n",
       "      <th></th>\n",
       "      <th></th>\n",
       "      <th></th>\n",
       "    </tr>\n",
       "  </thead>\n",
       "  <tbody>\n",
       "    <tr>\n",
       "      <th>CJ-CO-0002</th>\n",
       "      <td>[0, 1, 2, 3, 4, 5, 6, 7, 8, 9, 10, 11, 12, 13,...</td>\n",
       "      <td>[Document 1 Filed 22 February 2016 USDC Colora...</td>\n",
       "      <td>[0, 1, 0, 1, 1, 0, 0, 0, 0, 0, 0, 0, 0, 1, 0, ...</td>\n",
       "      <td>G.G., E.A.C.W, A.K., T.M., G.C., F.P., E.V. an...</td>\n",
       "    </tr>\n",
       "  </tbody>\n",
       "</table>\n",
       "</div>"
      ],
      "text/plain": [
       "                                                     sent_idx  \\\n",
       "doc_id                                                          \n",
       "CJ-CO-0002  [0, 1, 2, 3, 4, 5, 6, 7, 8, 9, 10, 11, 12, 13,...   \n",
       "\n",
       "                                                     sentence  \\\n",
       "doc_id                                                          \n",
       "CJ-CO-0002  [Document 1 Filed 22 February 2016 USDC Colora...   \n",
       "\n",
       "                                                   prediction  \\\n",
       "doc_id                                                          \n",
       "CJ-CO-0002  [0, 1, 0, 1, 1, 0, 0, 0, 0, 0, 0, 0, 0, 1, 0, ...   \n",
       "\n",
       "                                            generated_summary  \n",
       "doc_id                                                         \n",
       "CJ-CO-0002  G.G., E.A.C.W, A.K., T.M., G.C., F.P., E.V. an...  "
      ]
     },
     "execution_count": 50,
     "metadata": {},
     "output_type": "execute_result"
    }
   ],
   "source": [
    "grouped.head(1)"
   ]
  },
  {
   "cell_type": "code",
   "execution_count": 51,
   "id": "e2e3fc40-be51-49a7-bedd-68361d0ff2c8",
   "metadata": {},
   "outputs": [],
   "source": [
    "grouped = grouped.merge(df[[\"id\", \"summary/long\"]], left_on=\"doc_id\", right_on=\"id\", how=\"left\")\n",
    "grouped = grouped.set_index(\"id\")"
   ]
  },
  {
   "cell_type": "code",
   "execution_count": 52,
   "id": "ac8fff84-7f32-4815-b8c1-48d042ca38f3",
   "metadata": {},
   "outputs": [
    {
     "data": {
      "text/html": [
       "<div>\n",
       "<style scoped>\n",
       "    .dataframe tbody tr th:only-of-type {\n",
       "        vertical-align: middle;\n",
       "    }\n",
       "\n",
       "    .dataframe tbody tr th {\n",
       "        vertical-align: top;\n",
       "    }\n",
       "\n",
       "    .dataframe thead th {\n",
       "        text-align: right;\n",
       "    }\n",
       "</style>\n",
       "<table border=\"1\" class=\"dataframe\">\n",
       "  <thead>\n",
       "    <tr style=\"text-align: right;\">\n",
       "      <th></th>\n",
       "      <th>sent_idx</th>\n",
       "      <th>sentence</th>\n",
       "      <th>prediction</th>\n",
       "      <th>generated_summary</th>\n",
       "      <th>summary/long</th>\n",
       "    </tr>\n",
       "    <tr>\n",
       "      <th>id</th>\n",
       "      <th></th>\n",
       "      <th></th>\n",
       "      <th></th>\n",
       "      <th></th>\n",
       "      <th></th>\n",
       "    </tr>\n",
       "  </thead>\n",
       "  <tbody>\n",
       "    <tr>\n",
       "      <th>CJ-CO-0002</th>\n",
       "      <td>[0, 1, 2, 3, 4, 5, 6, 7, 8, 9, 10, 11, 12, 13,...</td>\n",
       "      <td>[Document 1 Filed 22 February 2016 USDC Colora...</td>\n",
       "      <td>[0, 1, 0, 1, 1, 0, 0, 0, 0, 0, 0, 0, 0, 1, 0, ...</td>\n",
       "      <td>G.G., E.A.C.W, A.K., T.M., G.C., F.P., E.V. an...</td>\n",
       "      <td>On February 22, 2016, individuals with mental ...</td>\n",
       "    </tr>\n",
       "  </tbody>\n",
       "</table>\n",
       "</div>"
      ],
      "text/plain": [
       "                                                     sent_idx  \\\n",
       "id                                                              \n",
       "CJ-CO-0002  [0, 1, 2, 3, 4, 5, 6, 7, 8, 9, 10, 11, 12, 13,...   \n",
       "\n",
       "                                                     sentence  \\\n",
       "id                                                              \n",
       "CJ-CO-0002  [Document 1 Filed 22 February 2016 USDC Colora...   \n",
       "\n",
       "                                                   prediction  \\\n",
       "id                                                              \n",
       "CJ-CO-0002  [0, 1, 0, 1, 1, 0, 0, 0, 0, 0, 0, 0, 0, 1, 0, ...   \n",
       "\n",
       "                                            generated_summary  \\\n",
       "id                                                              \n",
       "CJ-CO-0002  G.G., E.A.C.W, A.K., T.M., G.C., F.P., E.V. an...   \n",
       "\n",
       "                                                 summary/long  \n",
       "id                                                             \n",
       "CJ-CO-0002  On February 22, 2016, individuals with mental ...  "
      ]
     },
     "execution_count": 52,
     "metadata": {},
     "output_type": "execute_result"
    }
   ],
   "source": [
    "grouped.head(1)"
   ]
  },
  {
   "cell_type": "code",
   "execution_count": 53,
   "id": "49d4db99-6922-4fc2-b81a-b20f2327b51f",
   "metadata": {},
   "outputs": [],
   "source": [
    "grouped = grouped.drop(columns=[\"prediction\", \"sent_idx\", \"sentence\"])"
   ]
  },
  {
   "cell_type": "markdown",
   "id": "9268a454-e3e6-4bd8-9cc4-11c49b7b2a72",
   "metadata": {},
   "source": [
    "### Evaluation"
   ]
  },
  {
   "cell_type": "markdown",
   "id": "3ebd61c6-5655-4d85-a45f-51273318af3c",
   "metadata": {},
   "source": [
    "Classification Evaluation"
   ]
  },
  {
   "cell_type": "code",
   "execution_count": 54,
   "id": "6cb43347-f84d-46b0-95dd-dacccb26088b",
   "metadata": {},
   "outputs": [
    {
     "name": "stdout",
     "output_type": "stream",
     "text": [
      "Accuracy: 0.8668869483124853\n",
      "Classification Report:\n",
      "              precision    recall  f1-score   support\n",
      "\n",
      "           0       0.89      0.95      0.92    105063\n",
      "           1       0.72      0.54      0.62     26284\n",
      "\n",
      "    accuracy                           0.87    131347\n",
      "   macro avg       0.81      0.74      0.77    131347\n",
      "weighted avg       0.86      0.87      0.86    131347\n",
      "\n"
     ]
    }
   ],
   "source": [
    "print(\"Accuracy:\", accuracy_score(y_test, y_pred))\n",
    "print(\"Classification Report:\")\n",
    "print(classification_report(y_test, y_pred))"
   ]
  },
  {
   "cell_type": "markdown",
   "id": "a6450b92-10f5-48f5-9ebb-deb33b7f4798",
   "metadata": {},
   "source": [
    "ROUGE Evaluation"
   ]
  },
  {
   "cell_type": "code",
   "execution_count": 55,
   "id": "84bdadf6-c554-43e3-9ee0-1de07f8068a1",
   "metadata": {},
   "outputs": [
    {
     "name": "stderr",
     "output_type": "stream",
     "text": [
      "Evaluating ROUGE: 100%|████████████████████████████████████████████████████████████████| 98/98 [05:33<00:00,  3.40s/it]"
     ]
    },
    {
     "name": "stdout",
     "output_type": "stream",
     "text": [
      "Average ROUGE Scores:\n",
      "ROUGE-1:\n",
      "  Precision: 0.0832\n",
      "  Recall:    0.8622\n",
      "  F1-score:  0.1429\n",
      "ROUGE-2:\n",
      "  Precision: 0.0357\n",
      "  Recall:    0.4194\n",
      "  F1-score:  0.0622\n",
      "ROUGE-L:\n",
      "  Precision: 0.0433\n",
      "  Recall:    0.4922\n",
      "  F1-score:  0.0751\n"
     ]
    },
    {
     "name": "stderr",
     "output_type": "stream",
     "text": [
      "\n"
     ]
    }
   ],
   "source": [
    "results = evaluate_summaries(grouped)\n",
    "print(\"Average ROUGE Scores:\")\n",
    "for metric, scores in results.items():\n",
    "    print(f\"{metric}:\")\n",
    "    print(f\"  Precision: {scores['precision']:.4f}\")\n",
    "    print(f\"  Recall:    {scores['recall']:.4f}\")\n",
    "    print(f\"  F1-score:  {scores['f1']:.4f}\")"
   ]
  }
 ],
 "metadata": {
  "kernelspec": {
   "display_name": "Python 3 (ipykernel)",
   "language": "python",
   "name": "python3"
  },
  "language_info": {
   "codemirror_mode": {
    "name": "ipython",
    "version": 3
   },
   "file_extension": ".py",
   "mimetype": "text/x-python",
   "name": "python",
   "nbconvert_exporter": "python",
   "pygments_lexer": "ipython3",
   "version": "3.12.2"
  }
 },
 "nbformat": 4,
 "nbformat_minor": 5
}
